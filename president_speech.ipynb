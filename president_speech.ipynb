{
 "cells": [
  {
   "cell_type": "code",
   "execution_count": 25,
   "id": "a4f6aaec",
   "metadata": {},
   "outputs": [],
   "source": [
    "import os\n",
    "import re\n",
    "import torch\n",
    "import numpy as np\n",
    "import pandas as pd\n",
    "\n",
    "from transformers import GPT2LMHeadModel, GPT2Tokenizer"
   ]
  },
  {
   "cell_type": "code",
   "execution_count": 2,
   "id": "91173616",
   "metadata": {},
   "outputs": [],
   "source": [
    "device = torch.device('cuda')"
   ]
  },
  {
   "cell_type": "markdown",
   "id": "30fc4a20",
   "metadata": {},
   "source": [
    "# Load Pre-trained GPT2 Model"
   ]
  },
  {
   "cell_type": "code",
   "execution_count": 4,
   "id": "615f083d",
   "metadata": {},
   "outputs": [
    {
     "name": "stderr",
     "output_type": "stream",
     "text": [
      "Downloading: 100%|██████████████████████████████| 674/674 [00:00<00:00, 495kB/s]\n",
      "Downloading: 100%|█████████████████████████| 1.73G/1.73G [00:27<00:00, 63.7MB/s]\n",
      "Downloading: 100%|█████████████████████████| 1.61M/1.61M [00:00<00:00, 2.43MB/s]\n",
      "Downloading: 100%|█████████████████████████| 1.27M/1.27M [00:00<00:00, 1.70MB/s]\n"
     ]
    }
   ],
   "source": [
    "MODEL_NAME = 'sberbank-ai/rugpt3medium_based_on_gpt2'\n",
    "\n",
    "model = GPT2LMHeadModel.from_pretrained(MODEL_NAME).to(device)\n",
    "tokenizer = GPT2Tokenizer.from_pretrained(MODEL_NAME)"
   ]
  },
  {
   "cell_type": "markdown",
   "id": "2084aca5",
   "metadata": {},
   "source": [
    "# Testing Text Generation"
   ]
  },
  {
   "cell_type": "code",
   "execution_count": 27,
   "id": "59afbdd1",
   "metadata": {},
   "outputs": [],
   "source": [
    "test_text = \"\"\"\n",
    "    Жизнь как коробка конфет, никогда не знаешь\n",
    "\"\"\""
   ]
  },
  {
   "cell_type": "code",
   "execution_count": 28,
   "id": "2a6923fa",
   "metadata": {},
   "outputs": [
    {
     "data": {
      "text/plain": [
       "{'input_ids': tensor([[  203, 23300, 14518,   428, 40544, 45392,    16,  2002,   322,  4515,\n",
       "           203]], device='cuda:0'), 'attention_mask': tensor([[1, 1, 1, 1, 1, 1, 1, 1, 1, 1, 1]], device='cuda:0')}"
      ]
     },
     "execution_count": 28,
     "metadata": {},
     "output_type": "execute_result"
    }
   ],
   "source": [
    "inputs = tokenizer(test_text, return_tensors='pt').to(device)\n",
    "inputs"
   ]
  },
  {
   "cell_type": "code",
   "execution_count": 36,
   "id": "4d299056",
   "metadata": {},
   "outputs": [
    {
     "name": "stderr",
     "output_type": "stream",
     "text": [
      "Setting `pad_token_id` to `eos_token_id`:50256 for open-end generation.\n"
     ]
    },
    {
     "name": "stdout",
     "output_type": "stream",
     "text": [
      "\n",
      "    Жизнь как коробка конфет, никогда не знаешь\n",
      "      когда и куда тебя угостят. И только один раз в жизни я могу попробовать на вкус то что есть у других - это шоколад! С тех пор прошло немало времени... Но все равно каждый день беру его с собой во рту (причем иногда даже вместе со сладостями), хотя он для меня почти недоступен.... Так странно осознавать,что раньше мне казалось нормальным просто проглотить кусочек сладкого продукта(например шоколада) а теперь нет..... Я понимаю почему люди говорят \"хочу\" но до сихпор так мало кто понимает слово ЛЮБОВЬ!!! Это очень сложное чувство-когда хочется обнять когото или поцеловать того кому действительно нужна твоя любовь!!! В общем надо любить людей всем сердцем!!!! Очень тяжело сейчас жить без этого чувства!!! Вот думаю стоит ли нам продолжать встречаться дальше? Если да если НЕТ? Может быть лучше начать новые отношения..?? Ведь по настоящему любящий человек может дать счастье другим людям..хотя бы одному человеку.Может мы\n"
     ]
    }
   ],
   "source": [
    "generated = model.generate(**inputs, top_p=0.75, \n",
    "                           do_sample=True, \n",
    "                           min_length=50, \n",
    "                           max_length=200,\n",
    "                           repetition_penalty=4.)\n",
    "print(*tokenizer.batch_decode(generated))"
   ]
  },
  {
   "cell_type": "markdown",
   "id": "e17c0acf",
   "metadata": {},
   "source": [
    "# Finetuning GPT2 to answer questions like V. Putin"
   ]
  },
  {
   "cell_type": "code",
   "execution_count": 38,
   "id": "d5b6ac01",
   "metadata": {},
   "outputs": [
    {
     "data": {
      "text/plain": [
       "(5526, 6)"
      ]
     },
     "execution_count": 38,
     "metadata": {},
     "output_type": "execute_result"
    }
   ],
   "source": [
    "speech_data = pd.read_csv('data/president_speech.csv', encoding='utf8', sep=';')\n",
    "speech_data.shape"
   ]
  },
  {
   "cell_type": "code",
   "execution_count": 39,
   "id": "8105e221",
   "metadata": {},
   "outputs": [
    {
     "data": {
      "text/html": [
       "<div>\n",
       "<style scoped>\n",
       "    .dataframe tbody tr th:only-of-type {\n",
       "        vertical-align: middle;\n",
       "    }\n",
       "\n",
       "    .dataframe tbody tr th {\n",
       "        vertical-align: top;\n",
       "    }\n",
       "\n",
       "    .dataframe thead th {\n",
       "        text-align: right;\n",
       "    }\n",
       "</style>\n",
       "<table border=\"1\" class=\"dataframe\">\n",
       "  <thead>\n",
       "    <tr style=\"text-align: right;\">\n",
       "      <th></th>\n",
       "      <th>Unnamed: 0</th>\n",
       "      <th>url</th>\n",
       "      <th>quote_source</th>\n",
       "      <th>order_in_chat</th>\n",
       "      <th>other_quote</th>\n",
       "      <th>president_quote</th>\n",
       "    </tr>\n",
       "  </thead>\n",
       "  <tbody>\n",
       "    <tr>\n",
       "      <th>0</th>\n",
       "      <td>0</td>\n",
       "      <td>http://www.kremlin.ru/events/president/transcr...</td>\n",
       "      <td>Вопрос</td>\n",
       "      <td>0</td>\n",
       "      <td>Господин Путин, каково Ваше личное отношение к...</td>\n",
       "      <td>Хотел бы отметить, что у меня хорошие отношени...</td>\n",
       "    </tr>\n",
       "    <tr>\n",
       "      <th>1</th>\n",
       "      <td>1</td>\n",
       "      <td>http://www.kremlin.ru/events/president/transcr...</td>\n",
       "      <td>Вопрос</td>\n",
       "      <td>1</td>\n",
       "      <td>Может быть дружба своего рода?</td>\n",
       "      <td>Мы знакомы мало. Но я должен сказать, что мне ...</td>\n",
       "    </tr>\n",
       "    <tr>\n",
       "      <th>2</th>\n",
       "      <td>2</td>\n",
       "      <td>http://www.kremlin.ru/events/president/transcr...</td>\n",
       "      <td>Вопрос</td>\n",
       "      <td>2</td>\n",
       "      <td>Господин Президент, госпожа Политковская – это...</td>\n",
       "      <td>Прежде всего хочу сказать, что это омерзительн...</td>\n",
       "    </tr>\n",
       "    <tr>\n",
       "      <th>3</th>\n",
       "      <td>3</td>\n",
       "      <td>http://www.kremlin.ru/events/president/transcr...</td>\n",
       "      <td>Вопрос</td>\n",
       "      <td>3</td>\n",
       "      <td>Потому что у нее не было возможности выступать...</td>\n",
       "      <td>Если Вы мне дадите возможность высказаться, то...</td>\n",
       "    </tr>\n",
       "    <tr>\n",
       "      <th>4</th>\n",
       "      <td>4</td>\n",
       "      <td>http://www.kremlin.ru/events/president/transcr...</td>\n",
       "      <td>Вопрос</td>\n",
       "      <td>4</td>\n",
       "      <td>И поэтому это неправильные публикации, по мнен...</td>\n",
       "      <td>Я еще раз повторяю, будьте так любезны, не пер...</td>\n",
       "    </tr>\n",
       "    <tr>\n",
       "      <th>...</th>\n",
       "      <td>...</td>\n",
       "      <td>...</td>\n",
       "      <td>...</td>\n",
       "      <td>...</td>\n",
       "      <td>...</td>\n",
       "      <td>...</td>\n",
       "    </tr>\n",
       "    <tr>\n",
       "      <th>5521</th>\n",
       "      <td>5521</td>\n",
       "      <td>http://www.kremlin.ru/events/president/transcr...</td>\n",
       "      <td>Вопрос</td>\n",
       "      <td>5</td>\n",
       "      <td>Европейская комиссия начала процедуру наложени...</td>\n",
       "      <td>Во время визита господина Конте в Москву эту т...</td>\n",
       "    </tr>\n",
       "    <tr>\n",
       "      <th>5522</th>\n",
       "      <td>5522</td>\n",
       "      <td>http://www.kremlin.ru/events/president/transcr...</td>\n",
       "      <td>Вопрос</td>\n",
       "      <td>6</td>\n",
       "      <td>С избранием Владимира Зеленского на пост Прези...</td>\n",
       "      <td>Да, возможно, если Владимир Зеленский начнёт в...</td>\n",
       "    </tr>\n",
       "    <tr>\n",
       "      <th>5523</th>\n",
       "      <td>5523</td>\n",
       "      <td>http://www.kremlin.ru/events/president/transcr...</td>\n",
       "      <td>Вопрос</td>\n",
       "      <td>7</td>\n",
       "      <td>У Вас нет настоящих политических противников, ...</td>\n",
       "      <td>Дело не в процентах голосов на выборах, а в эк...</td>\n",
       "    </tr>\n",
       "    <tr>\n",
       "      <th>5524</th>\n",
       "      <td>5524</td>\n",
       "      <td>http://www.kremlin.ru/events/president/transcr...</td>\n",
       "      <td>Вопрос</td>\n",
       "      <td>8</td>\n",
       "      <td>Задумываетесь ли Вы о России после Путина с 20...</td>\n",
       "      <td>Об этом пока рано говорить. Впереди ещё пять л...</td>\n",
       "    </tr>\n",
       "    <tr>\n",
       "      <th>5525</th>\n",
       "      <td>5525</td>\n",
       "      <td>http://www.kremlin.ru/events/president/transcr...</td>\n",
       "      <td>Вопрос</td>\n",
       "      <td>9</td>\n",
       "      <td>Что является основой российско-итальянских тор...</td>\n",
       "      <td>Италия – один из основных торговых партнёров н...</td>\n",
       "    </tr>\n",
       "  </tbody>\n",
       "</table>\n",
       "<p>5526 rows × 6 columns</p>\n",
       "</div>"
      ],
      "text/plain": [
       "      Unnamed: 0                                                url  \\\n",
       "0              0  http://www.kremlin.ru/events/president/transcr...   \n",
       "1              1  http://www.kremlin.ru/events/president/transcr...   \n",
       "2              2  http://www.kremlin.ru/events/president/transcr...   \n",
       "3              3  http://www.kremlin.ru/events/president/transcr...   \n",
       "4              4  http://www.kremlin.ru/events/president/transcr...   \n",
       "...          ...                                                ...   \n",
       "5521        5521  http://www.kremlin.ru/events/president/transcr...   \n",
       "5522        5522  http://www.kremlin.ru/events/president/transcr...   \n",
       "5523        5523  http://www.kremlin.ru/events/president/transcr...   \n",
       "5524        5524  http://www.kremlin.ru/events/president/transcr...   \n",
       "5525        5525  http://www.kremlin.ru/events/president/transcr...   \n",
       "\n",
       "     quote_source  order_in_chat  \\\n",
       "0          Вопрос              0   \n",
       "1          Вопрос              1   \n",
       "2          Вопрос              2   \n",
       "3          Вопрос              3   \n",
       "4          Вопрос              4   \n",
       "...           ...            ...   \n",
       "5521       Вопрос              5   \n",
       "5522       Вопрос              6   \n",
       "5523       Вопрос              7   \n",
       "5524       Вопрос              8   \n",
       "5525       Вопрос              9   \n",
       "\n",
       "                                            other_quote  \\\n",
       "0     Господин Путин, каково Ваше личное отношение к...   \n",
       "1                        Может быть дружба своего рода?   \n",
       "2     Господин Президент, госпожа Политковская – это...   \n",
       "3     Потому что у нее не было возможности выступать...   \n",
       "4     И поэтому это неправильные публикации, по мнен...   \n",
       "...                                                 ...   \n",
       "5521  Европейская комиссия начала процедуру наложени...   \n",
       "5522  С избранием Владимира Зеленского на пост Прези...   \n",
       "5523  У Вас нет настоящих политических противников, ...   \n",
       "5524  Задумываетесь ли Вы о России после Путина с 20...   \n",
       "5525  Что является основой российско-итальянских тор...   \n",
       "\n",
       "                                        president_quote  \n",
       "0     Хотел бы отметить, что у меня хорошие отношени...  \n",
       "1     Мы знакомы мало. Но я должен сказать, что мне ...  \n",
       "2     Прежде всего хочу сказать, что это омерзительн...  \n",
       "3     Если Вы мне дадите возможность высказаться, то...  \n",
       "4     Я еще раз повторяю, будьте так любезны, не пер...  \n",
       "...                                                 ...  \n",
       "5521  Во время визита господина Конте в Москву эту т...  \n",
       "5522  Да, возможно, если Владимир Зеленский начнёт в...  \n",
       "5523  Дело не в процентах голосов на выборах, а в эк...  \n",
       "5524  Об этом пока рано говорить. Впереди ещё пять л...  \n",
       "5525  Италия – один из основных торговых партнёров н...  \n",
       "\n",
       "[5526 rows x 6 columns]"
      ]
     },
     "execution_count": 39,
     "metadata": {},
     "output_type": "execute_result"
    }
   ],
   "source": [
    "speech_data"
   ]
  },
  {
   "cell_type": "markdown",
   "id": "0350bcfa",
   "metadata": {},
   "source": [
    "# Preparing the data and tokenizer\n",
    "\n",
    "Adding special tokens to highlight question and answer"
   ]
  },
  {
   "cell_type": "code",
   "execution_count": 40,
   "id": "7ddd25d5",
   "metadata": {},
   "outputs": [],
   "source": [
    "data_txt = []\n",
    "for i in range(speech_data.shape[0]):\n",
    "    o, p = speech_data.other_quote[i], speech_data.president_quote[i]\n",
    "    line = f'@@Q_START@@ {o} @@Q_END@@ @@A_START@@ {p} @@A_END@@'\n",
    "    data_txt.append(line)"
   ]
  },
  {
   "cell_type": "code",
   "execution_count": 42,
   "id": "665440af",
   "metadata": {},
   "outputs": [
    {
     "data": {
      "text/plain": [
       "'@@Q_START@@ Господин Путин, каково Ваше личное отношение к госпоже Федеральному канцлеру? Существуют ли отличия от Ваших отношений с господином Шредером, который с Вами дружил близко? @@Q_END@@ @@A_START@@ Хотел бы отметить, что у меня хорошие отношения с руководством ФРГ еще со времен, когда канцлером был Коль. Несмотря на то что между его преемником и самим господином Колем отношения складывались не самым благообразным образом, у меня продолжались контакты с господином Колем всегда. Мы регулярно встречались с ним в Москве, в Кремле. Это не помешало мне строить хорошие отношения с новым канцлером. У меня очень хорошие деловые отношения и с новым канцлером Меркель. @@A_END@@'"
      ]
     },
     "execution_count": 42,
     "metadata": {},
     "output_type": "execute_result"
    }
   ],
   "source": [
    "data_txt[0]"
   ]
  },
  {
   "cell_type": "code",
   "execution_count": 43,
   "id": "ff52635d",
   "metadata": {},
   "outputs": [],
   "source": [
    "with open('data/data.txt', 'w') as w:\n",
    "    for ex in data_txt:\n",
    "        w.write(f'{ex}\\n')"
   ]
  },
  {
   "cell_type": "code",
   "execution_count": 44,
   "id": "2d1371ec",
   "metadata": {},
   "outputs": [],
   "source": [
    "! mkdir -p data/new_tokenizer"
   ]
  },
  {
   "cell_type": "code",
   "execution_count": 45,
   "id": "5769219f",
   "metadata": {},
   "outputs": [
    {
     "data": {
      "text/plain": [
       "('data/new_tokenizer/tokenizer_config.json',\n",
       " 'data/new_tokenizer/special_tokens_map.json',\n",
       " 'data/new_tokenizer/vocab.json',\n",
       " 'data/new_tokenizer/merges.txt',\n",
       " 'data/new_tokenizer/added_tokens.json')"
      ]
     },
     "execution_count": 45,
     "metadata": {},
     "output_type": "execute_result"
    }
   ],
   "source": [
    "# Adding the new tokens and saving the new tokenizer\n",
    "\n",
    "tokenizer = GPT2Tokenizer.from_pretrained(MODEL_NAME)\n",
    "tokenizer.add_tokens(['@@Q_START@@', '@@Q_END@@', '@@A_START@@', '@@A_END@@'], special_tokens=True)\n",
    "\n",
    "\n",
    "tokenizer.save_pretrained('data/new_tokenizer')"
   ]
  },
  {
   "cell_type": "markdown",
   "id": "c74d81e9",
   "metadata": {},
   "source": [
    "# Training script\n",
    "\n",
    "Using gradient accumulation to fit into 12 gb GPU memory."
   ]
  },
  {
   "cell_type": "code",
   "execution_count": null,
   "id": "d94906d0",
   "metadata": {},
   "outputs": [],
   "source": [
    "python run_clm.py \\\n",
    "   --do_train \\\n",
    "   --model_name_or_path \"sberbank-ai/rugpt3medium_based_on_gpt2\" \\\n",
    "   --tokenizer_name \"data/new_tokenizer\" \\\n",
    "   --model_type \"gpt2\" \\\n",
    "   --train_file \"data/data.txt\" \\\n",
    "   --validation_file \"data/data.txt\" \\\n",
    "   --cache_dir \"data/cache\" \\\n",
    "   --output_dir \"speech_logs\" \\\n",
    "   --per_device_train_batch_size 2 \\\n",
    "   --gradient_accumulation_steps 8 \\\n",
    "   --save_total_limit 3 \\\n",
    "   --save_strategy \"steps\" \\\n",
    "   --eval_steps 500 \\\n",
    "   --save_steps 500 \\\n",
    "   --preprocessing_num_workers 4 \\\n",
    "   --num_train_epochs 3 \\\n",
    "   --block_size 512"
   ]
  },
  {
   "cell_type": "markdown",
   "id": "5a4bd135",
   "metadata": {},
   "source": [
    "# Load Trained Model"
   ]
  },
  {
   "cell_type": "code",
   "execution_count": 59,
   "id": "2933151e",
   "metadata": {},
   "outputs": [],
   "source": [
    "checkpoint_dir = 'speech_logs/checkpoint-500'\n",
    "\n",
    "model = GPT2LMHeadModel.from_pretrained(checkpoint_dir).to(device)\n",
    "tokenizer = GPT2Tokenizer.from_pretrained(checkpoint_dir)"
   ]
  },
  {
   "cell_type": "code",
   "execution_count": 60,
   "id": "3a263390",
   "metadata": {},
   "outputs": [
    {
     "data": {
      "text/plain": [
       "(50257, 50258, 50259, 50260)"
      ]
     },
     "execution_count": 60,
     "metadata": {},
     "output_type": "execute_result"
    }
   ],
   "source": [
    "# Memorize special tokens IDs\n",
    "vocab = tokenizer.get_vocab()\n",
    "id0, id1, id2, id3 = vocab['@@Q_START@@'], vocab['@@Q_END@@'], vocab['@@A_START@@'], vocab['@@A_END@@']\n",
    "id0, id1, id2, id3"
   ]
  },
  {
   "cell_type": "code",
   "execution_count": 71,
   "id": "9df68503",
   "metadata": {},
   "outputs": [
    {
     "name": "stderr",
     "output_type": "stream",
     "text": [
      "Setting `pad_token_id` to `eos_token_id`:50260 for open-end generation.\n",
      "Setting `pad_token_id` to `eos_token_id`:50260 for open-end generation.\n"
     ]
    },
    {
     "name": "stdout",
     "output_type": "stream",
     "text": [
      "QUESTION: Каковы, на ваш взгляд, перспективы использования паукообразных роботов в сельском хозяйстве?\n",
      "ANSWER:   Вы знаете нашу позицию. Мы считаем: и мы не против применения роботизированных систем для решения задач сельского хозяйства – это тоже часть нашей позиции по этому вопросу; но только при условии соблюдения принципов промышленной политики страны с учетом интересов фермеров-производителей сельскохозяйственной продукции либо ее потребителей (это касается как России вообще так же стран СНГ).  \n"
     ]
    },
    {
     "name": "stderr",
     "output_type": "stream",
     "text": [
      "Setting `pad_token_id` to `eos_token_id`:50260 for open-end generation.\n"
     ]
    },
    {
     "name": "stdout",
     "output_type": "stream",
     "text": [
      "QUESTION: Каким будет 2023 год?\n",
      "ANSWER:   Это сложный вопрос. Я думаю, что мы все должны быть готовы к тому времени и в состоянии решить те задачи развития страны на перспективу – это прежде всего развитие экономики; социальной сферы: здравоохранения (мы сейчас говорим о здравоохранении), образования всех уровней с тем чтобы обеспечить людей качественными услугами по доступным ценам для населения Российской Федерации как минимум до конца этого года или даже раньше).  \n",
      "QUESTION: Оказавшись перед Путиным, что вы ему скажете?\n",
      "ANSWER:   Я скажу: «Владимир Владимирович! Вы знаете мою позицию. Она заключается в том числе и во введении визового режима между нашими странами».  \n"
     ]
    }
   ],
   "source": [
    "input_text = ['Каковы, на ваш взгляд, перспективы использования паукообразных роботов в сельском хозяйстве?',\n",
    "              'Каким будет 2023 год?',\n",
    "              'Оказавшись перед Путиным, что вы ему скажете?']\n",
    "\n",
    "for t in input_text:\n",
    "\n",
    "    inputs = tokenizer(f'@@Q_START@@ {t} @@Q_END@@ @@A_START@@', \n",
    "                       return_tensors='pt').to(device)\n",
    "    \n",
    "    generated = model.generate(**inputs, \n",
    "                               top_p=0.7,\n",
    "                               temperature=0.5,\n",
    "                               do_sample=True,\n",
    "                               eos_token_id=id3, \n",
    "                               repetition_penalty=4.0, \n",
    "                               max_length=100)\n",
    "    \n",
    "    generated = tokenizer.batch_decode(generated)[0]\n",
    "    answer = re.search('@@A_START@@(.*)', generated).group(1)\n",
    "    answer = re.sub('@@A_END@@', '', answer)\n",
    "    \n",
    "    print(f'QUESTION: {t}\\nANSWER: {answer}', end='\\n')"
   ]
  },
  {
   "cell_type": "code",
   "execution_count": null,
   "id": "4e4a4f65",
   "metadata": {},
   "outputs": [],
   "source": []
  }
 ],
 "metadata": {
  "kernelspec": {
   "display_name": "Python Avito",
   "language": "python",
   "name": "avito_test"
  },
  "language_info": {
   "codemirror_mode": {
    "name": "ipython",
    "version": 3
   },
   "file_extension": ".py",
   "mimetype": "text/x-python",
   "name": "python",
   "nbconvert_exporter": "python",
   "pygments_lexer": "ipython3",
   "version": "3.8.0"
  }
 },
 "nbformat": 4,
 "nbformat_minor": 5
}
